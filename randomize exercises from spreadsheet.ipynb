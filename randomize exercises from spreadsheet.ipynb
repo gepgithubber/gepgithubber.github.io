{
  "nbformat": 4,
  "nbformat_minor": 0,
  "metadata": {
    "colab": {
      "provenance": [],
      "authorship_tag": "ABX9TyMJi4qJ3f0bvh1IUM1Naurc",
      "include_colab_link": true
    },
    "kernelspec": {
      "name": "python3",
      "display_name": "Python 3"
    },
    "language_info": {
      "name": "python"
    }
  },
  "cells": [
    {
      "cell_type": "markdown",
      "metadata": {
        "id": "view-in-github",
        "colab_type": "text"
      },
      "source": [
        "<a href=\"https://colab.research.google.com/github/gepgithubber/gepgithubber.github.io/blob/main/randomize%20exercises%20from%20spreadsheet.ipynb\" target=\"_parent\"><img src=\"https://colab.research.google.com/assets/colab-badge.svg\" alt=\"Open In Colab\"/></a>"
      ]
    },
    {
      "cell_type": "code",
      "execution_count": null,
      "metadata": {
        "id": "vFuMnjBpRBUk"
      },
      "outputs": [],
      "source": [
        "import gspread\n",
        "from oauth2client.service_account import ServiceAccountCredentials\n",
        "import random\n",
        "\n",
        "# Constants for column 1 data\n",
        "column1_data = [\n",
        "    (\"Plank 1\", 30),\n",
        "    (\"Lunges 2\", 6),\n",
        "    (\"Leg extension with both legs\", 55),\n",
        "    (\"Ab Crunch 1\", 18)\n",
        "    # Add more pairs as needed\n",
        "]\n",
        "\n",
        "# Initialize the Google Sheets API\n",
        "scope = ['https://spreadsheets.google.com/feeds',\n",
        "         'https://www.googleapis.com/auth/drive']\n",
        "credentials = ServiceAccountCredentials.from_json_keyfile_name('credentials.json', scope)\n",
        "client = gspread.authorize(credentials)\n",
        "\n",
        "# Open the Google Spreadsheet\n",
        "spreadsheet = client.open('Your Spreadsheet Name')\n",
        "worksheet = spreadsheet.sheet1\n",
        "\n",
        "# Get the data from the spreadsheet\n",
        "column2_data = worksheet.col_values(2)[1:]  # Exclude header row\n",
        "\n",
        "# Combine the columns into a list of tuples\n",
        "data = list(zip(column1_data, column2_data))\n",
        "\n",
        "# Randomize the order of the data\n",
        "random.shuffle(data)\n",
        "\n",
        "# Separate the columns back into separate lists\n",
        "column1, column2 = zip(*data)\n",
        "\n",
        "# Print the randomized columns\n",
        "print(\"Randomized Exercises:\")\n",
        "for pair in column1:\n",
        "    description, value = pair\n",
        "    print(description, \"-\", value)\n",
        "\n",
        "print()\n",
        "\n",
        "print(\"Randomized Steps:\")\n",
        "for steps in column2:\n",
        "    print(steps)\n",
        "    print(\"no step\")\n"
      ]
    }
  ]
}